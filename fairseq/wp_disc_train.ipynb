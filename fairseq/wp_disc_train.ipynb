{
 "cells": [
  {
   "cell_type": "code",
   "execution_count": 4,
   "metadata": {},
   "outputs": [],
   "source": [
    "from pathlib import Path\n",
    "\n",
    "DATA_DIR = Path(\"../STORYEMNLP/full/\")\n",
    "TRAIN_CTX = Path(\"train.source\")\n",
    "TRAIN_PLOT = Path(\"train.target\")\n",
    "VALID_CTX = Path(\"val.source\")\n",
    "VALID_PLOT = Path(\"val.target\")"
   ]
  },
  {
   "cell_type": "code",
   "execution_count": 8,
   "metadata": {},
   "outputs": [],
   "source": [
    "def merge(ctx_path, plot_path, outfile):\n",
    "    with open(DATA_DIR / ctx_path,'r') as ctx, open(DATA_DIR / plot_path,'r') as plot, open(DATA_DIR / outfile,'w') as fout:\n",
    "        for c,p in zip(ctx, plot):\n",
    "            fout.write(c.strip() + \"</s>\" + p.strip() + \"\\n\")\n"
   ]
  },
  {
   "cell_type": "code",
   "execution_count": 7,
   "metadata": {},
   "outputs": [
    {
     "name": "stdout",
     "output_type": "stream",
     "text": [
      "You 've finally managed to discover the secret to immortality . Suddenly , Death appears before you , hands you a business card , and says , `` When you realize living forever sucks , call this number , I 've got a job offer for you . '' \n",
      "\n",
      " <A0> ent 0 <V> walked # <A1> places <A0> ent 0 <V> loved # <A0> ent 0 <V> got <A2> used to # <A1> the black hole <V> thrives # <A0> ent 0 <V> feel <A1> humanity # <A0> ent 0 <V> feel <A1> ent 0 body # <A1> the pattern <V> became <A2> obvious # <A0> the war and damage <V> devastate <A1> ent 0 </s> <A1> ent 0 <A0> ent 0 <V> desired # <A1> ent 0 <A0> ent 0 <V> lived # <A0> ent 0 <V> achieved <A1> ent 0 # <A0> ent 0 <V> started <A1> truly aging # <A1> ent 0 <V> aging </s> <A0> ent 1 <V> feel <A1> like a simple # <A0> ent 0 <V> remembered </s> </s> <A0> ent 0 <V> believe <A1> ent 2 was our past # <A1> ent 2 <V> been <A2> able to progress # <A1> ent 2 <V> progress # <A1> ent 2 <V> destroyed <A0> ent 2 our own violence </s> <A1> ent 0 number <A0> ent 0 <V> given </s> <V> hit <A1> the ground # <A0> the darkness <V> emerged </s> <A1> A chill <V> went # <A1> ent 0 <V> arrived </s> <A0> ent 0 <V> projected <A2> ent 0 my mind </s> <A0> I <V> obey </s> <A0> ent 0 <V> answered </s> <A1> who <V> sitting <A2> ent 0 of me # <A0> ent 0 <V> obey <A1> ent 0 # <V> playing <A1> ent 4 # <A1> ent 0 I <V> came </s>  \n",
      "\n",
      "The moon is actually a giant egg , and it has just started to hatch . \n",
      "\n",
      " <A0> ent 0 <V> says </s> <A0> ent 0 <V> walks </s> <A1> A few moments <V> pass # <A0> ent 0 <V> look </s> <A0> ent 0 eyes <V> scan <A1> the inky blackness of space # <A0> ent 0 <V> notice <A1> ent 3 moon 's surface </s> <A1> It <V> cracked </s> </s> <A0> ent 0 <V> wan # <A0> ent 0 <V> check <A1> this </s> <A0> ent 1 <V> walks # <A0> ent 1 <V> expecting <A1> nothing </s> </s> <A0> ent 1 <V> asks <A1> ent 0 do you see # <A1> What <A0> ent 0 <V> see </s> <A0> ent 1 <V> point <A2> ent 2 moon </s> <A1> ent 1 brow <V> furrows </s> </s> </s> <A1> ent 3 <V> cracks </s> <A0> We <V> glance <A1> at each other </s> <A1> What <V> going </s> <A0> ent 0 <V> ask <A2> alarmed # <A1> ent 0 <V> alarmed </s> <A1> mouth <V> hanging <A2> open </s> <A0> ent 4 <V> calls <A1> Janice </s> </s> </s> <V> Get <A2> over here </s> </s> <A0> The other crewmates <V> enter # <A1> what <V> expect </s> <A1> ent 5 eyes <V> lay <A2> ent 2 's surface cracks # <A1> ent 5 <V> widen </s> <A1> more cracks <V> appear </s> </s> </s> </s> <A1> ent 10 <V> float </s> <A0> ent 7 <V> stare </s> <A1> ent 8 <V> happens </s> <A1> ent 8 <V> happens </s> <A0> ent 2 <V> facing <A1> ent 7 # <A1> The side <V> torn <A0> by a </s> <A0> ent 7 <V> see <A1> . human face </s> </s> </s> <A0> ent 0 <V> recognize <A1> that face </s> </s> <A0> none of us <V> hear <A1> it # <A0> none of us <V> speak  \n",
      "\n",
      "You find a rip in time walking through the alleys . You enter it to find yourself on a metal table with surgical instruments on a chair next to you . \n",
      "\n",
      " </s> <A0> ent 0 <V> tell <A2> ya <A1> what </s> <A0> ent 0 <V> stumble # <A0> ent 0 <V> made <A1> ent 0 way </s> <A1> a horror story <V> starts </s> </s> <A0> ent 0 <V> saw </s> <A0> ent 0 <V> thought <A1> ent 3 was a bloke </s> <A0> someone <V> gone # <A1> someone <V> ripped # <V> database <A1> thing # <A0> ent 0 passport <V> say # <A0> ent 0 <V> like <A1> to not die # <A1> ent 0 <V> die  \n",
      "\n",
      "For years in your youth the same imaginary character appears in your dreams , you are good friends . Years later , when adult , you meet her in real life , she clearly recognises you and tries to avoid you , and you want answers . \n",
      "\n",
      " <A0> ent 0 <V> backed # <A1> ent 0 <V> turned # <A0> ent 0 <V> saw <A1> ent 1 heading towards her # <A0> ent 1 <V> heading <A1> ent 0 her </s> </s> <V> Starting <A1> ent 1 walk quickly now # <A0> ent 1 <V> picked <A1> ent 1 pace # <A0> ent 1 <V> ran <A1> ent 0 her </s> <A0> ent 0 <V> duck # <A0> ent 2 <V> carrying <A1> ent 2 # <A0> ent 0 <V> managed <A1> an awkward half step # <A0> ent 1 <V> grabbed <A1> ent 4 </s> <A1> ent 0 <V> turned </s> </s> </s> <A1> ent 0 eyes <V> lit # <A1> ent 0 <V> turned # <A0> ent 0 <V> grabbed <A1> ent 0 hands # <A0> ent 0 <V> lowered <A1> ent 4 </s> </s> <A1> this far <V> get # <A1> you <V> ’ <A2> here # <A1> you <V> re </s> </s> <A1> ent 1 <V> … <A2> ent 1 # <A1> ent 1 … you <V> re <A2> real # <A0> ent 1 <V> looking <A1> ent 0 her eyes </s> <A0> ent 5 <V> know <A1> ent 5 I am # <A2> ent 5 <A1> ent 5 <V> am </s> </s> </s> </s> <A0> ent 0 <V> talking <A2> ent 1 me </s> <A2> through <A0> ent 1 <V> put <A1> ent 1 </s> </s> <A1> ent 1 <V> get <A2> ent 6 of you # <A0> ent 1 <V> rid <A1> ent 6 you # <A1> ent 6 <V> come # <A0> ent 6 <V> tear <A1> it # <A0> ent 0 <V> slapped <A1> ent 4 # <A0> ent 0 <V> delivered <A1> the last line </s> <A0> ent 6 <V> talking <A1> about </s> </s> <A0> ent 0 <V> asked </s> <A0> ent 6 <V> mean # <A0> ent 6 <V> looked <A1> ent 0 her # <A1> ent 0 <V> standing <A2> there </s> <A0> You <V> re <A1> a dream # <A1> You ’ re a dream <A0> ent 0 <V> froze </s> <A1> ent 6 <V> re <A2> ent 9 </s> <A0> ent 1 <V> saw <A1> ent 1 </s> <A0> ent 1 <V> looked <A1> ent 10 shaking my head # <A0> ent 0 <V> shaking <A1> ent 10 # <A1> what <V> happening </s> <A1> we <V> fell # <A0> ent 0 <V> smiled # <A0> ent 0 <V> frowning # <A0> ent 0 <V> looking </s> <A1> ent 1 <V> woke </s> <A1> ent 11 <V> happened </s> <A0> ent 1 <V> remember <A1> it # <A0> ent 1 <V> lived </s> <A0> ent 1 <V> looked <A1> ent 0 her # <A0> ent 1 <V> began <A1> to realize something # <A0> ent 1 <V> realize <A1> something </s> <A0> ent 1 <V> saw <A1> ent 1 # <A0> ent 1 <V> dreamt <A1> ent 1 </s> <A0> ent 1 <V> lived # <A0> ent 1 <V> lived </s> <A1> ent 8 <V> sat </s> <A1> ent 10 <V> hurts # <A1> ent 10 hurts <A0> ent 8 <V> paused </s> <A0> ent 7 <V> met # <A0> ent 1 <V> corrected </s> <A0> ent 8 <V> looked <A1> ent 1 me # <A0> ent 8 <V> scowled </s> </s> <A1> we <V> fell </s> <A1> What <V> happened </s> <A0> ent 1 <V> told <A2> ent 1 <A1> ent 1 woke up # <A1> ent 1 <V> woke </s> <A1> what <V> happened <A2> ent 1 me </s> <A0> ent 1 <V> don # <A0> ent 1 <V> remember <A1> anything but falling head first # <A1> ent 1 <V> falling # <A0> ent 1 <V> looked <A1> ent 8 <A2> in the eyes </s> <A1> ent 1 <V> woke  \n",
      "\n",
      "You glance at your watch 10:34 am , roughly 10 seconds later your plane explodes over the Pacific Ocean . Your eyes open as you jolt awake . The familiar hum of the planes engine remains . Checking your watch it is 9:35 \n",
      "\n",
      " <A1> noise <V> seems # <A0> noise <V> reach <A1> a crescendo </s> <A1> ent 5 <V> closed # <A1> ent 0 only thing <A0> ent 0 <V> saw # <V> faded <A1> blue numbers # <A1> faded blue numbers <V> read <A2> [UNK] </s> </s> <V> Searing <A1> heat </s> <A1> ent 0 <V> woke # <A1> ent 0 <V> drenched <A2> in sweat </s> <A1> ent 0 first thing <A0> ent 0 <V> noticed </s> <A1> anyone <V> stick <A2> to you </s> <A0> ent 0 <V> whispered # <A0> ent 0 <V> shook <A1> ent 0 head </s> <A0> We <V> eliminate <A1> ent 2 </s> <A0> ent 1 <V> cause <A1> a problem </s> </s> <A0> ent 0 <V> watched # <A0> three people <V> acting </s> <A0> One portly man <V> checking <A1> his watch </s> <A0> A younger man <V> sweating </s> <A0> A woman <V> glancing # <A1> ent 0 <A0> ent 0 <V> describe <A2> as suspicion </s> <A0> ent 0 <V> pointed <A1> ent 1 <A2> ent 0 her # <A0> ent 0 <V> agreed </s> </s> </s> </s> <A1> Seconds <V> ticking # <A1> those <V> start </s> <A1> ent 3 <V> stood <A2> there # <A1> a flight attendant <V> approached <A2> ent 3 </s> <A0> ent 4 <V> startled <A1> ent 3 # <A1> ent 4 <V> turned # <A0> ent 4 <V> locked <A1> eyes <A2> ent 0 me </s> <A1> ent 5 <V> went # <A0> ent 4 <V> knew <A1> that someone knew # <A0> someone <V> knew </s> <A0> ent 4 <V> bolted # <A0> ent 4 <V> reached <A2> for the overhead compartment  \n",
      "\n",
      "Through Iron And Flame \n",
      "\n",
      " <A1> ent 0 <V> stood </s> <A0> ent 0 <V> trembled # <A0> ent 1 <V> chose <A1> ent 3 </s> </s> <A0> ent 3 <V> wake <A1> ent 3 </s> <A0> ent 3 <V> strode # <A1> ent 3 <V> shining </s> <A1> The shrouded peak <V> drew # <A0> ent 4 <V> climbed <A1> the sky </s> <A0> ent 6 <V> slept </s> <A0> ent 1 <V> seen <A1> ent 6 wake # <A1> ent 6 <V> wake </s> <A1> ent 1 stories <V> told <A0> by night and hearth fire </s> <A1> ent 6 <V> waking # <A1> the destruction <V> followed </s> </s> <A0> ent 1 <V> tamed <A1> ent 7 # <A0> ent 1 <V> bent <A1> ent 7 <A2> ent 1 their will </s> <A0> weapons <V> fight <A1> the myth </s> <A0> That <V> quench <A1> the fire </s> <A0> ent 5 <V> stopped # <A1> ent 4 <V> stopped </s> <A0> ent 5 <V> breathed </s> <A0> ent 5 <V> pulled <A1> ent 11 <A2> ent 8 # <A0> ent 5 <V> gripped <A1> ent 8 </s> <A1> ent 12 <V> appeared </s> <A1> The mountain <V> rumbled </s> <A1> ent 5 <V> come # <A0> ent 5 <V> wake <A1> ent 10 # <A1> ent 5 <V> come # <A0> the people <V> fear <A1> ent 10 </s> <A1> ent 13 <V> rolled # <A1> ent 13 <V> thundered </s> <A0> ent 5 <V> roared # <A0> ent 5 <V> raised <A1> ent 11 # <A0> ent 5 <V> charging </s> <A0> ent 5 <V> ran # <A0> ent 5 <V> climbed # <A0> ent 6 for the Dragon <V> pounded <A1> ent 5 his ears </s> <A1> ent 12 <V> grew <A2> brighter # <A1> ent 13 <V> shook </s> <A0> A gout of flame <V> split <A1> the clouds # <A0> ent 5 <V> saw <A1> ent 5 destination </s> <A1> The rock <V> ended # <A0> the Dragons flames <V> beat # <A2> the Dragons flames <V> splashed  \n",
      "\n"
     ]
    }
   ],
   "source": [
    "with open(DATA_DIR / VALID_CTX,'r') as ctx, open(DATA_DIR / VALID_PLOT,'r') as plot:\n",
    "    cnt = 0\n",
    "    for c,p in zip(ctx, plot):\n",
    "        print(c)\n",
    "        print(p)\n",
    "        cnt += 1\n",
    "        if cnt > 5 : break"
   ]
  },
  {
   "cell_type": "code",
   "execution_count": 9,
   "metadata": {},
   "outputs": [],
   "source": [
    "merge(TRAIN_CTX, TRAIN_PLOT, \"train_disc.txt\")\n",
    "merge(VALID_CTX, VALID_PLOT, \"valid.txt\")"
   ]
  },
  {
   "cell_type": "code",
   "execution_count": null,
   "metadata": {},
   "outputs": [],
   "source": []
  }
 ],
 "metadata": {
  "kernelspec": {
   "display_name": "Python 3.7.13 ('story_gen')",
   "language": "python",
   "name": "python3"
  },
  "language_info": {
   "codemirror_mode": {
    "name": "ipython",
    "version": 3
   },
   "file_extension": ".py",
   "mimetype": "text/x-python",
   "name": "python",
   "nbconvert_exporter": "python",
   "pygments_lexer": "ipython3",
   "version": "3.7.13"
  },
  "orig_nbformat": 4,
  "vscode": {
   "interpreter": {
    "hash": "adbdc9e7554f02a19673872b34b055f0a7f80ec14465fbb63f77ab98d68cdcac"
   }
  }
 },
 "nbformat": 4,
 "nbformat_minor": 2
}
